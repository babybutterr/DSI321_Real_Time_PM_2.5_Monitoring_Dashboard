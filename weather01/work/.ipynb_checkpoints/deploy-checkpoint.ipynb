{
 "cells": [
  {
   "cell_type": "code",
   "execution_count": null,
   "id": "95d3bf71",
   "metadata": {
    "vscode": {
     "languageId": "plaintext"
    }
   },
   "outputs": [],
   "source": [
    "import nest_asyncio\n",
    "nest_asyncio.apply()\n",
    "\n",
    "import asyncio\n",
    "from prefect import flow\n",
    "# Use the proper import for deployments if needed (depending on your version)\n",
    "# For example, in Prefect 3, the flow.from_source method is asynchronous.\n",
    "\n",
    "SOURCE_REPO = \"https://github.com/prefecthq/demos.git\"\n",
    "\n",
    "async def register_deployment():\n",
    "    # Await the from_source call to load the flow\n",
    "    loaded_flow = await flow.from_source(\n",
    "        source=SOURCE_REPO,\n",
    "        entrypoint=\"my_workflow.py:show_stars\",  # Adjust to your repo's structure\n",
    "    )\n",
    "    # Now deploy the loaded flow (awaiting the deploy call)\n",
    "    deployment = await loaded_flow.deploy(\n",
    "        name=\"my_deployment\",\n",
    "        parameters={\n",
    "            \"github_repos\": [\n",
    "                \"wasit7/papapipeline\",\n",
    "                \"wasit7/DjangoCrafter\",\n",
    "                \"PrefectHQ/prefect\",\n",
    "                \"huggingface/transformers\"\n",
    "            ]\n",
    "        },\n",
    "        work_pool_name=\"default-agent-pool\",\n",
    "        cron=\"*/5 * * * *\"  # Run every 5 minutes (adjust as needed)\n",
    "    )\n",
    "    return deployment\n",
    "\n",
    "# Run the async function in Jupyter using await at top-level\n",
    "deployment_result = await register_deployment()\n",
    "print(\"Deployment registered:\", deployment_result)\n"
   ]
  }
 ],
 "metadata": {
  "language_info": {
   "name": "python"
  }
 },
 "nbformat": 4,
 "nbformat_minor": 5
}
